{
  "nbformat": 4,
  "nbformat_minor": 0,
  "metadata": {
    "colab": {
      "name": "celsiusToFahrenheit.ipynb",
      "provenance": [],
      "collapsed_sections": [],
      "authorship_tag": "ABX9TyNwdwOvVhVH/HjdsVqpLJOI",
      "include_colab_link": true
    },
    "kernelspec": {
      "name": "python3",
      "display_name": "Python 3"
    },
    "language_info": {
      "name": "python"
    }
  },
  "cells": [
    {
      "cell_type": "markdown",
      "metadata": {
        "id": "view-in-github",
        "colab_type": "text"
      },
      "source": [
        "<a href=\"https://colab.research.google.com/github/IsmaelMorante/celsiusToFahrenheitTensorFlow/blob/master/celsiusToFahrenheit.ipynb\" target=\"_parent\"><img src=\"https://colab.research.google.com/assets/colab-badge.svg\" alt=\"Open In Colab\"/></a>"
      ]
    },
    {
      "cell_type": "code",
      "metadata": {
        "id": "3H9LFYleRlfM"
      },
      "source": [
        "# Librerias\n",
        "import tensorflow as tf\n",
        "import numpy as np\n",
        "import matplotlib.pyplot as plt"
      ],
      "execution_count": null,
      "outputs": []
    },
    {
      "cell_type": "code",
      "metadata": {
        "id": "6iEsG2ycRt7Z"
      },
      "source": [
        "# Dataset de entrenamiento\n",
        "celsius = np.array([-40, -10, 0, 8, 15, 22, 38, 50, 58, -20], dtype=float)\n",
        "fahrenheit = np.array([-40, 14, 32, 46, 59, 72, 100, 122, 136.4, -4], dtype=float)"
      ],
      "execution_count": null,
      "outputs": []
    },
    {
      "cell_type": "code",
      "metadata": {
        "id": "IdxHty6uSWlm"
      },
      "source": [
        "# Configuracion de Keras 1 capa\n",
        "# capa = tf.keras.layers.Dense(units=1, input_shape=[1])\n",
        "# modelo = tf.keras.Sequential([capa])\n",
        "\n",
        "# Configuracion de Keras 3 capas\n",
        "oculta1 = tf.keras.layers.Dense(units=3, input_shape=[1])\n",
        "oculta2 = tf.keras.layers.Dense(units=3)\n",
        "salida = tf.keras.layers.Dense(units=1)\n",
        "modelo = tf.keras.Sequential([oculta1, oculta2, salida])"
      ],
      "execution_count": null,
      "outputs": []
    },
    {
      "cell_type": "code",
      "metadata": {
        "id": "8uBZBZHTStU-"
      },
      "source": [
        "# Definicion del modelo y su aprendizaje\n",
        "modelo.compile(\n",
        "    optimizer=tf.keras.optimizers.Adam(0.1),\n",
        "    loss='mean_squared_error'\n",
        ")"
      ],
      "execution_count": null,
      "outputs": []
    },
    {
      "cell_type": "code",
      "metadata": {
        "colab": {
          "base_uri": "https://localhost:8080/"
        },
        "id": "50yhLY9UTGYN",
        "outputId": "b2e8669d-a912-40ec-e42a-632c81c80c24"
      },
      "source": [
        "# Entrenamiento del modelo\n",
        "print('Entrenamiento')\n",
        "historial = modelo.fit(celsius, fahrenheit, epochs=2000, verbose=False)\n",
        "print('Entrenamiento finalizado')\n"
      ],
      "execution_count": null,
      "outputs": [
        {
          "output_type": "stream",
          "text": [
            "Entrenamiento\n",
            "Entrenamiento finalizado\n"
          ],
          "name": "stdout"
        }
      ]
    },
    {
      "cell_type": "code",
      "metadata": {
        "colab": {
          "base_uri": "https://localhost:8080/",
          "height": 296
        },
        "id": "vnHWJ8TlTfeD",
        "outputId": "c98f3535-b792-47c3-b6b2-e3f886ef5ab5"
      },
      "source": [
        "# Visionado de perdida en el entrenamiento\n",
        "plt.xlabel(\"Loop\")\n",
        "plt.ylabel(\"Pérdida\")\n",
        "plt.plot(historial.history['loss'])"
      ],
      "execution_count": null,
      "outputs": [
        {
          "output_type": "execute_result",
          "data": {
            "text/plain": [
              "[<matplotlib.lines.Line2D at 0x7fde10ec3650>]"
            ]
          },
          "metadata": {
            "tags": []
          },
          "execution_count": 43
        },
        {
          "output_type": "display_data",
          "data": {
            "image/png": "[encoded data removed]",
            "text/plain": [
              "<Figure size 432x288 with 1 Axes>"
            ]
          },
          "metadata": {
            "tags": [],
            "needs_background": "light"
          }
        }
      ]
    },
    {
      "cell_type": "code",
      "metadata": {
        "colab": {
          "base_uri": "https://localhost:8080/"
        },
        "id": "h9BQ4AK4UdPf",
        "outputId": "10b7e958-6f32-4087-d9ba-47d312a40bb1"
      },
      "source": [
        "# Comporbacion de resultados\n",
        "resultado = modelo.predict([100.0])\n",
        "print(\"Resultado \" + str(resultado) + \" fahrenheit\")"
      ],
      "execution_count": null,
      "outputs": [
        {
          "output_type": "stream",
          "text": [
            "Resultado [[211.912]] fahrenheit\n"
          ],
          "name": "stdout"
        }
      ]
    },
    {
      "cell_type": "code",
      "metadata": {
        "colab": {
          "base_uri": "https://localhost:8080/"
        },
        "id": "gXRlcxpxWEdt",
        "outputId": "487e51e7-153f-4856-bc26-9a980fea3543"
      },
      "source": [
        "# Visionado del modelo\n",
        "# print(capa.get_weights())\n",
        "print(oculta1.get_weights())\n",
        "print(oculta2.get_weights())\n",
        "print(salida.get_weights())"
      ],
      "execution_count": null,
      "outputs": [
        {
          "output_type": "stream",
          "text": [
            "[array([[-0.662416  , -0.47088194,  0.5777331 ]], dtype=float32), array([-2.8808255,  2.0038135,  3.6358793], dtype=float32)]\n",
            "[array([[-0.7787602 ,  0.2093601 , -0.8595959 ],\n",
            "       [-0.06666091, -1.4276738 ,  0.05109342],\n",
            "       [ 0.31131938, -1.1254069 ,  1.0258803 ]], dtype=float32), array([ 2.2793827, -3.404449 ,  3.1369889], dtype=float32)]\n",
            "[array([[ 0.48065948],\n",
            "       [-1.4265416 ],\n",
            "       [ 1.1279277 ]], dtype=float32), array([3.0235312], dtype=float32)]\n"
          ],
          "name": "stdout"
        }
      ]
    }
  ]
}